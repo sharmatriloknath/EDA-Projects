{
 "cells": [
  {
   "cell_type": "code",
   "execution_count": 1,
   "id": "5c3be942",
   "metadata": {},
   "outputs": [],
   "source": [
    "### Import Libraries\n",
    "import pandas as pd\n",
    "import numpy as np\n",
    "import matplotlib.pyplot as plt\n",
    "import seaborn as sns\n",
    "%matplotlib inline"
   ]
  },
  {
   "cell_type": "markdown",
   "id": "125e2455",
   "metadata": {},
   "source": [
    "### DataSet\n",
    "Get Dataset from here [DATASET](https://archive.ics.uci.edu/ml/datasets/Drug+Review+Dataset+%28Drugs.com%29)\n",
    "\n",
    "### About Dataset\n",
    "The dataset provides patient reviews on specific drugs along with related conditions and a 10 star patient rating reflecting overall patient satisfaction. The data was obtained by crawling online pharmaceutical review sites. The intention was to study.\n",
    "\n",
    "### About Attributes\n",
    "\n",
    "1. drugName (categorical): name of drug\n",
    "2. condition (categorical): name of condition\n",
    "3. review (text): patient review\n",
    "4. rating (numerical): 10 star patient rating\n",
    "5. date (date): date of review entry\n",
    "6. usefulCount (numerical): number of users who found review useful"
   ]
  },
  {
   "cell_type": "code",
   "execution_count": 2,
   "id": "8b89f8f1",
   "metadata": {},
   "outputs": [],
   "source": [
    "drugs_df = pd.read_csv('../Dataset/drugsCom_raw/drugsComTrain_raw.tsv',sep='\\t')"
   ]
  },
  {
   "cell_type": "code",
   "execution_count": 3,
   "id": "4225e740",
   "metadata": {},
   "outputs": [
    {
     "data": {
      "text/plain": [
       "(161297, 7)"
      ]
     },
     "execution_count": 3,
     "metadata": {},
     "output_type": "execute_result"
    }
   ],
   "source": [
    "drugs_df.shape"
   ]
  },
  {
   "cell_type": "code",
   "execution_count": 4,
   "id": "ea815e11",
   "metadata": {},
   "outputs": [
    {
     "data": {
      "text/html": [
       "<div>\n",
       "<style scoped>\n",
       "    .dataframe tbody tr th:only-of-type {\n",
       "        vertical-align: middle;\n",
       "    }\n",
       "\n",
       "    .dataframe tbody tr th {\n",
       "        vertical-align: top;\n",
       "    }\n",
       "\n",
       "    .dataframe thead th {\n",
       "        text-align: right;\n",
       "    }\n",
       "</style>\n",
       "<table border=\"1\" class=\"dataframe\">\n",
       "  <thead>\n",
       "    <tr style=\"text-align: right;\">\n",
       "      <th></th>\n",
       "      <th>Unnamed: 0</th>\n",
       "      <th>drugName</th>\n",
       "      <th>condition</th>\n",
       "      <th>review</th>\n",
       "      <th>rating</th>\n",
       "      <th>date</th>\n",
       "      <th>usefulCount</th>\n",
       "    </tr>\n",
       "  </thead>\n",
       "  <tbody>\n",
       "    <tr>\n",
       "      <th>0</th>\n",
       "      <td>206461</td>\n",
       "      <td>Valsartan</td>\n",
       "      <td>Left Ventricular Dysfunction</td>\n",
       "      <td>\"It has no side effect, I take it in combinati...</td>\n",
       "      <td>9.0</td>\n",
       "      <td>May 20, 2012</td>\n",
       "      <td>27</td>\n",
       "    </tr>\n",
       "    <tr>\n",
       "      <th>1</th>\n",
       "      <td>95260</td>\n",
       "      <td>Guanfacine</td>\n",
       "      <td>ADHD</td>\n",
       "      <td>\"My son is halfway through his fourth week of ...</td>\n",
       "      <td>8.0</td>\n",
       "      <td>April 27, 2010</td>\n",
       "      <td>192</td>\n",
       "    </tr>\n",
       "    <tr>\n",
       "      <th>2</th>\n",
       "      <td>92703</td>\n",
       "      <td>Lybrel</td>\n",
       "      <td>Birth Control</td>\n",
       "      <td>\"I used to take another oral contraceptive, wh...</td>\n",
       "      <td>5.0</td>\n",
       "      <td>December 14, 2009</td>\n",
       "      <td>17</td>\n",
       "    </tr>\n",
       "    <tr>\n",
       "      <th>3</th>\n",
       "      <td>138000</td>\n",
       "      <td>Ortho Evra</td>\n",
       "      <td>Birth Control</td>\n",
       "      <td>\"This is my first time using any form of birth...</td>\n",
       "      <td>8.0</td>\n",
       "      <td>November 3, 2015</td>\n",
       "      <td>10</td>\n",
       "    </tr>\n",
       "    <tr>\n",
       "      <th>4</th>\n",
       "      <td>35696</td>\n",
       "      <td>Buprenorphine / naloxone</td>\n",
       "      <td>Opiate Dependence</td>\n",
       "      <td>\"Suboxone has completely turned my life around...</td>\n",
       "      <td>9.0</td>\n",
       "      <td>November 27, 2016</td>\n",
       "      <td>37</td>\n",
       "    </tr>\n",
       "  </tbody>\n",
       "</table>\n",
       "</div>"
      ],
      "text/plain": [
       "   Unnamed: 0                  drugName                     condition  \\\n",
       "0      206461                 Valsartan  Left Ventricular Dysfunction   \n",
       "1       95260                Guanfacine                          ADHD   \n",
       "2       92703                    Lybrel                 Birth Control   \n",
       "3      138000                Ortho Evra                 Birth Control   \n",
       "4       35696  Buprenorphine / naloxone             Opiate Dependence   \n",
       "\n",
       "                                              review  rating  \\\n",
       "0  \"It has no side effect, I take it in combinati...     9.0   \n",
       "1  \"My son is halfway through his fourth week of ...     8.0   \n",
       "2  \"I used to take another oral contraceptive, wh...     5.0   \n",
       "3  \"This is my first time using any form of birth...     8.0   \n",
       "4  \"Suboxone has completely turned my life around...     9.0   \n",
       "\n",
       "                date  usefulCount  \n",
       "0       May 20, 2012           27  \n",
       "1     April 27, 2010          192  \n",
       "2  December 14, 2009           17  \n",
       "3   November 3, 2015           10  \n",
       "4  November 27, 2016           37  "
      ]
     },
     "execution_count": 4,
     "metadata": {},
     "output_type": "execute_result"
    }
   ],
   "source": [
    "drugs_df.head()"
   ]
  },
  {
   "cell_type": "code",
   "execution_count": 5,
   "id": "6d0e8a68",
   "metadata": {},
   "outputs": [
    {
     "name": "stdout",
     "output_type": "stream",
     "text": [
      "<class 'pandas.core.frame.DataFrame'>\n",
      "RangeIndex: 161297 entries, 0 to 161296\n",
      "Data columns (total 7 columns):\n",
      " #   Column       Non-Null Count   Dtype  \n",
      "---  ------       --------------   -----  \n",
      " 0   Unnamed: 0   161297 non-null  int64  \n",
      " 1   drugName     161297 non-null  object \n",
      " 2   condition    160398 non-null  object \n",
      " 3   review       161297 non-null  object \n",
      " 4   rating       161297 non-null  float64\n",
      " 5   date         161297 non-null  object \n",
      " 6   usefulCount  161297 non-null  int64  \n",
      "dtypes: float64(1), int64(2), object(4)\n",
      "memory usage: 115.7 MB\n"
     ]
    }
   ],
   "source": [
    "drugs_df.info(memory_usage='deep')"
   ]
  },
  {
   "cell_type": "markdown",
   "id": "8e72f26b",
   "metadata": {},
   "source": [
    "## Data Types\n",
    "**From 115.7 MB to 3.9 MB**\n",
    "   \n",
    "+ Delete `Unnamed: 0` Column.\n",
    "+ Change the `drugName` from object to category.\n",
    "+ Change the `condition` from object to category.\n",
    "+ chage the data type of `review` and `usefulCount` from `float64` to 'int16'\n",
    "+ change the data type of `date` to date."
   ]
  },
  {
   "cell_type": "code",
   "execution_count": 31,
   "id": "969ac4ec",
   "metadata": {},
   "outputs": [],
   "source": [
    "df = (drugs_df\n",
    "    .drop('Unnamed: 0', axis=1)\n",
    "    .assign(\n",
    "            **{c:lambda df_, c=c:df_[c].astype('category') for c in ['drugName', 'condition']},\n",
    "            **{c:lambda df_,c=c: df_[c].astype('int16') for c in ['rating','usefulCount']},\n",
    "            date = pd.to_datetime(drugs_df['date'])\n",
    "    )\n",
    ")"
   ]
  },
  {
   "cell_type": "code",
   "execution_count": 7,
   "id": "8f2e4dee",
   "metadata": {},
   "outputs": [
    {
     "data": {
      "text/html": [
       "<div>\n",
       "<style scoped>\n",
       "    .dataframe tbody tr th:only-of-type {\n",
       "        vertical-align: middle;\n",
       "    }\n",
       "\n",
       "    .dataframe tbody tr th {\n",
       "        vertical-align: top;\n",
       "    }\n",
       "\n",
       "    .dataframe thead th {\n",
       "        text-align: right;\n",
       "    }\n",
       "</style>\n",
       "<table border=\"1\" class=\"dataframe\">\n",
       "  <thead>\n",
       "    <tr style=\"text-align: right;\">\n",
       "      <th></th>\n",
       "      <th>drugName</th>\n",
       "      <th>condition</th>\n",
       "      <th>review</th>\n",
       "      <th>rating</th>\n",
       "      <th>date</th>\n",
       "      <th>usefulCount</th>\n",
       "    </tr>\n",
       "  </thead>\n",
       "  <tbody>\n",
       "    <tr>\n",
       "      <th>0</th>\n",
       "      <td>Valsartan</td>\n",
       "      <td>Left Ventricular Dysfunction</td>\n",
       "      <td>\"It has no side effect, I take it in combinati...</td>\n",
       "      <td>9</td>\n",
       "      <td>2012-05-20</td>\n",
       "      <td>27</td>\n",
       "    </tr>\n",
       "    <tr>\n",
       "      <th>1</th>\n",
       "      <td>Guanfacine</td>\n",
       "      <td>ADHD</td>\n",
       "      <td>\"My son is halfway through his fourth week of ...</td>\n",
       "      <td>8</td>\n",
       "      <td>2010-04-27</td>\n",
       "      <td>192</td>\n",
       "    </tr>\n",
       "    <tr>\n",
       "      <th>2</th>\n",
       "      <td>Lybrel</td>\n",
       "      <td>Birth Control</td>\n",
       "      <td>\"I used to take another oral contraceptive, wh...</td>\n",
       "      <td>5</td>\n",
       "      <td>2009-12-14</td>\n",
       "      <td>17</td>\n",
       "    </tr>\n",
       "    <tr>\n",
       "      <th>3</th>\n",
       "      <td>Ortho Evra</td>\n",
       "      <td>Birth Control</td>\n",
       "      <td>\"This is my first time using any form of birth...</td>\n",
       "      <td>8</td>\n",
       "      <td>2015-11-03</td>\n",
       "      <td>10</td>\n",
       "    </tr>\n",
       "    <tr>\n",
       "      <th>4</th>\n",
       "      <td>Buprenorphine / naloxone</td>\n",
       "      <td>Opiate Dependence</td>\n",
       "      <td>\"Suboxone has completely turned my life around...</td>\n",
       "      <td>9</td>\n",
       "      <td>2016-11-27</td>\n",
       "      <td>37</td>\n",
       "    </tr>\n",
       "  </tbody>\n",
       "</table>\n",
       "</div>"
      ],
      "text/plain": [
       "                   drugName                     condition  \\\n",
       "0                 Valsartan  Left Ventricular Dysfunction   \n",
       "1                Guanfacine                          ADHD   \n",
       "2                    Lybrel                 Birth Control   \n",
       "3                Ortho Evra                 Birth Control   \n",
       "4  Buprenorphine / naloxone             Opiate Dependence   \n",
       "\n",
       "                                              review  rating       date  \\\n",
       "0  \"It has no side effect, I take it in combinati...       9 2012-05-20   \n",
       "1  \"My son is halfway through his fourth week of ...       8 2010-04-27   \n",
       "2  \"I used to take another oral contraceptive, wh...       5 2009-12-14   \n",
       "3  \"This is my first time using any form of birth...       8 2015-11-03   \n",
       "4  \"Suboxone has completely turned my life around...       9 2016-11-27   \n",
       "\n",
       "   usefulCount  \n",
       "0           27  \n",
       "1          192  \n",
       "2           17  \n",
       "3           10  \n",
       "4           37  "
      ]
     },
     "execution_count": 7,
     "metadata": {},
     "output_type": "execute_result"
    }
   ],
   "source": [
    "df.head()"
   ]
  },
  {
   "cell_type": "markdown",
   "id": "936cceca",
   "metadata": {},
   "source": [
    "#### Check for null values."
   ]
  },
  {
   "cell_type": "code",
   "execution_count": 8,
   "id": "5d52f3b6",
   "metadata": {},
   "outputs": [
    {
     "data": {
      "text/plain": [
       "drugName         0\n",
       "condition      899\n",
       "review           0\n",
       "rating           0\n",
       "date             0\n",
       "usefulCount      0\n",
       "dtype: int64"
      ]
     },
     "execution_count": 8,
     "metadata": {},
     "output_type": "execute_result"
    }
   ],
   "source": [
    "df.isnull().sum()"
   ]
  },
  {
   "cell_type": "markdown",
   "id": "7c1cefd3",
   "metadata": {},
   "source": [
    "**Note**: We have 899 null values in `condition`.\n",
    "\n",
    "    - Patient not have related condition."
   ]
  },
  {
   "cell_type": "markdown",
   "id": "1dee46f4",
   "metadata": {},
   "source": [
    "## Questions"
   ]
  },
  {
   "cell_type": "markdown",
   "id": "c5a29197",
   "metadata": {},
   "source": [
    "### 1. How many drugs we have."
   ]
  },
  {
   "cell_type": "code",
   "execution_count": 9,
   "id": "fd687103",
   "metadata": {},
   "outputs": [
    {
     "data": {
      "text/plain": [
       "3436"
      ]
     },
     "execution_count": 9,
     "metadata": {},
     "output_type": "execute_result"
    }
   ],
   "source": [
    "# print(df['drugName'].unique().tolist())\n",
    "len(df['drugName'].unique().tolist())"
   ]
  },
  {
   "cell_type": "markdown",
   "id": "1750e6da",
   "metadata": {},
   "source": [
    "### 2. What is the most Popular drug."
   ]
  },
  {
   "cell_type": "code",
   "execution_count": 10,
   "id": "1b0f6adb",
   "metadata": {},
   "outputs": [
    {
     "data": {
      "text/plain": [
       "Levonorgestrel    3657\n",
       "Name: drugName, dtype: int64"
      ]
     },
     "execution_count": 10,
     "metadata": {},
     "output_type": "execute_result"
    }
   ],
   "source": [
    "df['drugName'].value_counts().nlargest(1)"
   ]
  },
  {
   "cell_type": "markdown",
   "id": "be785e14",
   "metadata": {},
   "source": [
    "### 3. Get Top 10 Drugs and Plot with bar"
   ]
  },
  {
   "cell_type": "code",
   "execution_count": 11,
   "id": "32f15d89",
   "metadata": {},
   "outputs": [
    {
     "data": {
      "text/plain": [
       "Levonorgestrel                        3657\n",
       "Etonogestrel                          3336\n",
       "Ethinyl estradiol / norethindrone     2850\n",
       "Nexplanon                             2156\n",
       "Ethinyl estradiol / norgestimate      2117\n",
       "Ethinyl estradiol / levonorgestrel    1888\n",
       "Phentermine                           1543\n",
       "Sertraline                            1360\n",
       "Escitalopram                          1292\n",
       "Mirena                                1242\n",
       "Name: drugName, dtype: int64"
      ]
     },
     "execution_count": 11,
     "metadata": {},
     "output_type": "execute_result"
    }
   ],
   "source": [
    "df['drugName'].value_counts().nlargest(10)"
   ]
  },
  {
   "cell_type": "code",
   "execution_count": 12,
   "id": "d19d3066",
   "metadata": {},
   "outputs": [
    {
     "data": {
      "text/plain": [
       "Text(0, 0.5, 'Count')"
      ]
     },
     "execution_count": 12,
     "metadata": {},
     "output_type": "execute_result"
    },
    {
     "data": {
      "image/png": "[encoded data removed]",
      "text/plain": [
       "<Figure size 864x576 with 1 Axes>"
      ]
     },
     "metadata": {
      "needs_background": "light"
     },
     "output_type": "display_data"
    }
   ],
   "source": [
    "plt.figure(figsize=(12,8))\n",
    "fig = df['drugName'].value_counts().nlargest(10).plot(kind='bar',color='green')\n",
    "fig.set_title(\"Top 10 Drugs\", {'fontsize': 20,'fontweight': 'bold'})\n",
    "fig.set_xlabel(\"Drugs Name\",{'fontsize': 15,'fontweight': 'bold'})\n",
    "fig.set_ylabel(\"Count\", {'fontsize': 15,'fontweight': 'bold'})"
   ]
  },
  {
   "cell_type": "markdown",
   "id": "7841683d",
   "metadata": {},
   "source": [
    "### 3. Get least 10 Drugs and Plot with bar"
   ]
  },
  {
   "cell_type": "code",
   "execution_count": 13,
   "id": "75cada87",
   "metadata": {},
   "outputs": [
    {
     "data": {
      "text/plain": [
       "Afrin NoDrip Sinus                 1\n",
       "Cetaphil Lotion                    1\n",
       "Zetran                             1\n",
       "Aleve-D Sinus & Cold               1\n",
       "Alclometasone                      1\n",
       "Afrin 4 Hour Extra Moisturizing    1\n",
       "Cortisone                          1\n",
       "Cerezyme                           1\n",
       "Zicam Extreme Congestion Relief    1\n",
       "SymlinPen 60                       1\n",
       "Name: drugName, dtype: int64"
      ]
     },
     "execution_count": 13,
     "metadata": {},
     "output_type": "execute_result"
    }
   ],
   "source": [
    "df['drugName'].value_counts().nsmallest(10)"
   ]
  },
  {
   "cell_type": "code",
   "execution_count": 14,
   "id": "eed2826a",
   "metadata": {},
   "outputs": [
    {
     "data": {
      "text/plain": [
       "Text(0, 0.5, 'Count')"
      ]
     },
     "execution_count": 14,
     "metadata": {},
     "output_type": "execute_result"
    },
    {
     "data": {
      "image/png": "[encoded data removed]",
      "text/plain": [
       "<Figure size 864x576 with 1 Axes>"
      ]
     },
     "metadata": {
      "needs_background": "light"
     },
     "output_type": "display_data"
    }
   ],
   "source": [
    "plt.figure(figsize=(12,8))\n",
    "fig = df['drugName'].value_counts().nsmallest(10).plot(kind='bar',color='green')\n",
    "fig.set_title(\"Last 10 Drugs\", {'fontsize': 20,'fontweight': 'bold'})\n",
    "fig.set_xlabel(\"Drugs Name\",{'fontsize': 15,'fontweight': 'bold'})\n",
    "fig.set_ylabel(\"Count\", {'fontsize': 15,'fontweight': 'bold'})"
   ]
  },
  {
   "cell_type": "markdown",
   "id": "39466483",
   "metadata": {},
   "source": [
    "### 4. What are the classification of drugs."
   ]
  },
  {
   "cell_type": "code",
   "execution_count": 15,
   "id": "80e126e7",
   "metadata": {},
   "outputs": [],
   "source": [
    "drug_suffix = {\"azole\":\"antifungal (except metronidazole)\",\n",
    "\"caine\":\"anesthetic\",\n",
    "\"cillin\":\"antibiotic(penicillins)\",\n",
    "\"mycin\":\"antibiotic\",\n",
    "\"micin\":\"antibiotic\",\n",
    "\"cycline\":\"antibiotic\",\n",
    "\"oxacin\":\"antibiotic\",\n",
    "\"ceph\":\"antibiotic(cephalosporins)\",\n",
    "\"cef\":\"antibiotic (cephalosporins)\",\n",
    "\"dine\":\"h2 blockers (anti-ulcers)\",\n",
    "\"done\":\"opiod analgesics\",\n",
    "\"ide\":\"oral hypoglycemics\",\n",
    "\"lam\":\"anti-anxiety\",\n",
    "\"pam\":\"anti-anxiety\",\n",
    "\"mide\":\"diuretics\",\n",
    "\"zide\":\"diuretics\",\n",
    "\"nium\":\"neuromuscular blocking agents\",\n",
    "\"olol\":\"beta blockers\",\n",
    "\"tidine\":\"h2 antagonist\",\n",
    "\"tropin\":\"pituitary hormone\",\n",
    "\"zosin\":\"alpha blocker\",\n",
    "\"ase\":\"thrombolytics\",\n",
    "\"plase\":\"thrombolytics\",\n",
    "\"azepam\":\"anti-anziety(benzodiazepine)\",\n",
    "\"azine\":\"antipyschotics (phenothiazine)\",\n",
    "\"barbital\":\"barbiturate\",\n",
    "\"dipine\":\"calcium channel blocker\",\n",
    "\"lol\":\"beta blocker\",\n",
    "\"zolam\":\"cns depressants\",\n",
    "\"pril\":\"ace inhibitor\",\n",
    "\"artan\":\"arb blocker\",\n",
    "\"statins\":\"lipid-lowering drugs\",\n",
    "\"parin\":\"anticoagulants\",\n",
    "\"sone\":\"corticosteroid (prednisone)\"}"
   ]
  },
  {
   "cell_type": "code",
   "execution_count": 16,
   "id": "a1a05f8b",
   "metadata": {},
   "outputs": [],
   "source": [
    "def classify_drug(drugname):\n",
    "    return [drug_suffix[i] for i in drug_suffix.keys() if drugname.endswith(i)][0] if len([drug_suffix[i] for i in drug_suffix.keys() if drugname.endswith(i)])>=1 else None"
   ]
  },
  {
   "cell_type": "code",
   "execution_count": 32,
   "id": "3153bd00",
   "metadata": {},
   "outputs": [],
   "source": [
    "df_class = (df\n",
    ".assign(drug_class = lambda df_:df_['drugName'].apply(classify_drug))\n",
    ")[['drugName','drug_class']]"
   ]
  },
  {
   "cell_type": "markdown",
   "id": "5df1da87",
   "metadata": {},
   "source": [
    "### 5. How many Groups of Drugs By Class"
   ]
  },
  {
   "cell_type": "code",
   "execution_count": 33,
   "id": "d2858526",
   "metadata": {},
   "outputs": [
    {
     "data": {
      "text/plain": [
       "array(['arb blocker', None, 'antifungal (except metronidazole)',\n",
       "       'oral hypoglycemics', 'opiod analgesics', 'antibiotic',\n",
       "       'anti-anxiety', 'h2 blockers (anti-ulcers)', 'beta blockers',\n",
       "       'ace inhibitor', 'thrombolytics', 'alpha blocker',\n",
       "       'corticosteroid (prednisone)', 'antipyschotics (phenothiazine)',\n",
       "       'antibiotic(penicillins)', 'barbiturate',\n",
       "       'calcium channel blocker', 'anesthetic', 'pituitary hormone',\n",
       "       'antibiotic (cephalosporins)', 'beta blocker',\n",
       "       'neuromuscular blocking agents', 'anticoagulants'], dtype=object)"
      ]
     },
     "execution_count": 33,
     "metadata": {},
     "output_type": "execute_result"
    }
   ],
   "source": [
    "(df_class\n",
    ".drug_class\n",
    ".unique()\n",
    ")"
   ]
  },
  {
   "cell_type": "code",
   "execution_count": 34,
   "id": "b312d4e5",
   "metadata": {},
   "outputs": [
    {
     "data": {
      "text/plain": [
       "23"
      ]
     },
     "execution_count": 34,
     "metadata": {},
     "output_type": "execute_result"
    }
   ],
   "source": [
    "len(df_class\n",
    ".drug_class\n",
    ".unique()\n",
    ")"
   ]
  },
  {
   "cell_type": "markdown",
   "id": "b6940fa3",
   "metadata": {},
   "source": [
    "### 5. Which of class of drug  has more count."
   ]
  },
  {
   "cell_type": "code",
   "execution_count": 35,
   "id": "cc6b902b",
   "metadata": {},
   "outputs": [
    {
     "data": {
      "text/plain": [
       "antifungal (except metronidazole)    4201\n",
       "opiod analgesics                     3945\n",
       "oral hypoglycemics                   3555\n",
       "antibiotic                           3401\n",
       "anti-anxiety                         2645\n",
       "h2 blockers (anti-ulcers)            1228\n",
       "beta blockers                         966\n",
       "corticosteroid (prednisone)           886\n",
       "antipyschotics (phenothiazine)        664\n",
       "arb blocker                           560\n",
       "ace inhibitor                         432\n",
       "calcium channel blocker               233\n",
       "alpha blocker                         153\n",
       "anesthetic                            129\n",
       "antibiotic(penicillins)               119\n",
       "thrombolytics                         116\n",
       "beta blocker                           97\n",
       "neuromuscular blocking agents          45\n",
       "antibiotic (cephalosporins)            29\n",
       "pituitary hormone                      28\n",
       "barbiturate                            19\n",
       "anticoagulants                          9\n",
       "Name: drug_class, dtype: int64"
      ]
     },
     "execution_count": 35,
     "metadata": {},
     "output_type": "execute_result"
    }
   ],
   "source": [
    "(df_class['drug_class']\n",
    ".value_counts()\n",
    ")"
   ]
  },
  {
   "cell_type": "code",
   "execution_count": 36,
   "id": "7e9fdab3",
   "metadata": {},
   "outputs": [
    {
     "data": {
      "text/plain": [
       "Text(0, 0.5, 'Drug Count')"
      ]
     },
     "execution_count": 36,
     "metadata": {},
     "output_type": "execute_result"
    },
    {
     "data": {
      "image/png": "[encoded data removed]",
      "text/plain": [
       "<Figure size 1080x576 with 1 Axes>"
      ]
     },
     "metadata": {
      "needs_background": "light"
     },
     "output_type": "display_data"
    }
   ],
   "source": [
    "plt.figure(figsize=(15,8))\n",
    "fig = df_class['drug_class'].value_counts().plot(kind='bar',color='green')\n",
    "fig.set_title(\"Drugs By Class\", {'fontsize': 20,'fontweight': 'bold'})\n",
    "fig.set_xlabel(\"Drugs Class\",{'fontsize': 15,'fontweight': 'bold'})\n",
    "fig.set_ylabel(\"Drug Count\", {'fontsize': 15,'fontweight': 'bold'})"
   ]
  },
  {
   "cell_type": "markdown",
   "id": "a7afd9c7",
   "metadata": {},
   "source": [
    "### 6. Distribution of Drugs Per Drug class based on size"
   ]
  },
  {
   "cell_type": "code",
   "execution_count": 37,
   "id": "f906a2a4",
   "metadata": {},
   "outputs": [
    {
     "data": {
      "text/html": [
       "<div>\n",
       "<style scoped>\n",
       "    .dataframe tbody tr th:only-of-type {\n",
       "        vertical-align: middle;\n",
       "    }\n",
       "\n",
       "    .dataframe tbody tr th {\n",
       "        vertical-align: top;\n",
       "    }\n",
       "\n",
       "    .dataframe thead th {\n",
       "        text-align: right;\n",
       "    }\n",
       "</style>\n",
       "<table border=\"1\" class=\"dataframe\">\n",
       "  <thead>\n",
       "    <tr style=\"text-align: right;\">\n",
       "      <th></th>\n",
       "      <th>Count</th>\n",
       "    </tr>\n",
       "    <tr>\n",
       "      <th>drug_class</th>\n",
       "      <th></th>\n",
       "    </tr>\n",
       "  </thead>\n",
       "  <tbody>\n",
       "    <tr>\n",
       "      <th>antifungal (except metronidazole)</th>\n",
       "      <td>4201</td>\n",
       "    </tr>\n",
       "    <tr>\n",
       "      <th>opiod analgesics</th>\n",
       "      <td>3945</td>\n",
       "    </tr>\n",
       "    <tr>\n",
       "      <th>oral hypoglycemics</th>\n",
       "      <td>3555</td>\n",
       "    </tr>\n",
       "    <tr>\n",
       "      <th>antibiotic</th>\n",
       "      <td>3401</td>\n",
       "    </tr>\n",
       "    <tr>\n",
       "      <th>anti-anxiety</th>\n",
       "      <td>2645</td>\n",
       "    </tr>\n",
       "    <tr>\n",
       "      <th>h2 blockers (anti-ulcers)</th>\n",
       "      <td>1228</td>\n",
       "    </tr>\n",
       "    <tr>\n",
       "      <th>beta blockers</th>\n",
       "      <td>966</td>\n",
       "    </tr>\n",
       "    <tr>\n",
       "      <th>corticosteroid (prednisone)</th>\n",
       "      <td>886</td>\n",
       "    </tr>\n",
       "    <tr>\n",
       "      <th>antipyschotics (phenothiazine)</th>\n",
       "      <td>664</td>\n",
       "    </tr>\n",
       "    <tr>\n",
       "      <th>arb blocker</th>\n",
       "      <td>560</td>\n",
       "    </tr>\n",
       "    <tr>\n",
       "      <th>ace inhibitor</th>\n",
       "      <td>432</td>\n",
       "    </tr>\n",
       "    <tr>\n",
       "      <th>calcium channel blocker</th>\n",
       "      <td>233</td>\n",
       "    </tr>\n",
       "    <tr>\n",
       "      <th>alpha blocker</th>\n",
       "      <td>153</td>\n",
       "    </tr>\n",
       "    <tr>\n",
       "      <th>anesthetic</th>\n",
       "      <td>129</td>\n",
       "    </tr>\n",
       "    <tr>\n",
       "      <th>antibiotic(penicillins)</th>\n",
       "      <td>119</td>\n",
       "    </tr>\n",
       "    <tr>\n",
       "      <th>thrombolytics</th>\n",
       "      <td>116</td>\n",
       "    </tr>\n",
       "    <tr>\n",
       "      <th>beta blocker</th>\n",
       "      <td>97</td>\n",
       "    </tr>\n",
       "    <tr>\n",
       "      <th>neuromuscular blocking agents</th>\n",
       "      <td>45</td>\n",
       "    </tr>\n",
       "    <tr>\n",
       "      <th>antibiotic (cephalosporins)</th>\n",
       "      <td>29</td>\n",
       "    </tr>\n",
       "    <tr>\n",
       "      <th>pituitary hormone</th>\n",
       "      <td>28</td>\n",
       "    </tr>\n",
       "    <tr>\n",
       "      <th>barbiturate</th>\n",
       "      <td>19</td>\n",
       "    </tr>\n",
       "    <tr>\n",
       "      <th>anticoagulants</th>\n",
       "      <td>9</td>\n",
       "    </tr>\n",
       "  </tbody>\n",
       "</table>\n",
       "</div>"
      ],
      "text/plain": [
       "                                   Count\n",
       "drug_class                              \n",
       "antifungal (except metronidazole)   4201\n",
       "opiod analgesics                    3945\n",
       "oral hypoglycemics                  3555\n",
       "antibiotic                          3401\n",
       "anti-anxiety                        2645\n",
       "h2 blockers (anti-ulcers)           1228\n",
       "beta blockers                        966\n",
       "corticosteroid (prednisone)          886\n",
       "antipyschotics (phenothiazine)       664\n",
       "arb blocker                          560\n",
       "ace inhibitor                        432\n",
       "calcium channel blocker              233\n",
       "alpha blocker                        153\n",
       "anesthetic                           129\n",
       "antibiotic(penicillins)              119\n",
       "thrombolytics                        116\n",
       "beta blocker                          97\n",
       "neuromuscular blocking agents         45\n",
       "antibiotic (cephalosporins)           29\n",
       "pituitary hormone                     28\n",
       "barbiturate                           19\n",
       "anticoagulants                         9"
      ]
     },
     "execution_count": 37,
     "metadata": {},
     "output_type": "execute_result"
    }
   ],
   "source": [
    "(df_class\n",
    " .groupby('drug_class')\n",
    " .size()\n",
    " .to_frame()\n",
    " .set_axis(['Count'],axis=1)\n",
    " .sort_values(by='Count',ascending=False)\n",
    ")"
   ]
  },
  {
   "cell_type": "code",
   "execution_count": 38,
   "id": "6500b8a5",
   "metadata": {},
   "outputs": [],
   "source": [
    "grouped_df  = (df_class\n",
    " .groupby('drug_class')\n",
    " .size()\n",
    " .to_frame()\n",
    " .set_axis(['Count'],axis=1)\n",
    " .sort_values(by='Count',ascending=False)\n",
    ")"
   ]
  },
  {
   "cell_type": "code",
   "execution_count": 24,
   "id": "cec0a0e6",
   "metadata": {},
   "outputs": [
    {
     "data": {
      "text/plain": [
       "Text(0.5, 1.0, 'Drugs By Class')"
      ]
     },
     "execution_count": 24,
     "metadata": {},
     "output_type": "execute_result"
    },
    {
     "data": {
      "image/png": "[encoded data removed]",
      "text/plain": [
       "<Figure size 1440x576 with 1 Axes>"
      ]
     },
     "metadata": {
      "needs_background": "light"
     },
     "output_type": "display_data"
    }
   ],
   "source": [
    "plt.figure(figsize=(20,8))\n",
    "sns.barplot(x=grouped_df.index,y='Count',data=grouped_df)\n",
    "plt.xticks(rotation=90);\n",
    "plt.xlabel(\"Drug Class\")\n",
    "plt.ylabel(\"Drug Count\")\n",
    "plt.title(\"Drugs By Class\")"
   ]
  },
  {
   "cell_type": "markdown",
   "id": "12d18517",
   "metadata": {},
   "source": [
    "### 7.Question on Conditions\n",
    "+ How many conditions are there?\n",
    "+ Which conditions are the most common?\n",
    "+ Distribution of conditions and rating"
   ]
  },
  {
   "cell_type": "code",
   "execution_count": 44,
   "id": "44bb2522",
   "metadata": {},
   "outputs": [
    {
     "data": {
      "text/plain": [
       "884"
      ]
     },
     "execution_count": 44,
     "metadata": {},
     "output_type": "execute_result"
    }
   ],
   "source": [
    "len(df['condition']\n",
    " .value_counts()\n",
    " .to_list()\n",
    ")"
   ]
  },
  {
   "cell_type": "code",
   "execution_count": 46,
   "id": "0fe8cd4a",
   "metadata": {},
   "outputs": [
    {
     "data": {
      "text/plain": [
       "Birth Control      28788\n",
       "Depression          9069\n",
       "Pain                6145\n",
       "Anxiety             5904\n",
       "Acne                5588\n",
       "Bipolar Disorde     4224\n",
       "Insomnia            3673\n",
       "Weight Loss         3609\n",
       "Obesity             3568\n",
       "ADHD                3383\n",
       "Name: condition, dtype: int64"
      ]
     },
     "execution_count": 46,
     "metadata": {},
     "output_type": "execute_result"
    }
   ],
   "source": [
    "(df['condition']\n",
    " .value_counts()\n",
    " .nlargest(10)\n",
    ")"
   ]
  },
  {
   "cell_type": "code",
   "execution_count": 48,
   "id": "510e70a3",
   "metadata": {},
   "outputs": [
    {
     "data": {
      "text/plain": [
       "<AxesSubplot:>"
      ]
     },
     "execution_count": 48,
     "metadata": {},
     "output_type": "execute_result"
    },
    {
     "data": {
      "image/png": "[encoded data removed]",
      "text/plain": [
       "<Figure size 1080x360 with 1 Axes>"
      ]
     },
     "metadata": {
      "needs_background": "light"
     },
     "output_type": "display_data"
    }
   ],
   "source": [
    "plt.figure(figsize=(15,5))\n",
    "(df['condition']\n",
    " .value_counts()\n",
    " .nlargest(10)\n",
    " .plot(kind='bar')\n",
    ")"
   ]
  },
  {
   "cell_type": "code",
   "execution_count": 49,
   "id": "4dab73bf",
   "metadata": {},
   "outputs": [
    {
     "data": {
      "text/plain": [
       "<AxesSubplot:>"
      ]
     },
     "execution_count": 49,
     "metadata": {},
     "output_type": "execute_result"
    },
    {
     "data": {
      "image/png": "[encoded data removed]",
      "text/plain": [
       "<Figure size 1080x360 with 1 Axes>"
      ]
     },
     "metadata": {
      "needs_background": "light"
     },
     "output_type": "display_data"
    }
   ],
   "source": [
    "plt.figure(figsize=(15,5))\n",
    "(df['condition']\n",
    " .value_counts()\n",
    " .nsmallest(10)\n",
    " .plot(kind='bar')\n",
    ")"
   ]
  },
  {
   "cell_type": "markdown",
   "id": "5c112d3b",
   "metadata": {},
   "source": [
    "### 8. Distribution of Drugs by Condition"
   ]
  },
  {
   "cell_type": "code",
   "execution_count": 57,
   "id": "c75ce35a",
   "metadata": {},
   "outputs": [
    {
     "data": {
      "image/png": "[encoded data removed]",
      "text/plain": [
       "<Figure size 1080x360 with 1 Axes>"
      ]
     },
     "metadata": {
      "needs_background": "light"
     },
     "output_type": "display_data"
    }
   ],
   "source": [
    "plt.figure(figsize=(15,5))\n",
    "(df\n",
    " .groupby('condition')['drugName']\n",
    " .nunique()\n",
    " .nlargest(10)\n",
    " .plot(kind='bar')\n",
    ")\n",
    "plt.title(\"Number of Drugs Per Condition\")\n",
    "plt.grid()\n",
    "plt.show()"
   ]
  },
  {
   "cell_type": "markdown",
   "id": "9bbb747e",
   "metadata": {},
   "source": [
    "### 9. Questions on Rating\n",
    "+ Number of Drugs per rating\n",
    "+ Distribution of rating\n",
    "+ Average Rating Per Count"
   ]
  },
  {
   "cell_type": "code",
   "execution_count": 58,
   "id": "d85fb03e",
   "metadata": {},
   "outputs": [
    {
     "data": {
      "text/plain": [
       "10    50989\n",
       "9     27531\n",
       "1     21619\n",
       "8     18890\n",
       "7      9456\n",
       "5      8013\n",
       "2      6931\n",
       "3      6513\n",
       "6      6343\n",
       "4      5012\n",
       "Name: rating, dtype: int64"
      ]
     },
     "execution_count": 58,
     "metadata": {},
     "output_type": "execute_result"
    }
   ],
   "source": [
    "(df['rating']\n",
    ".value_counts())"
   ]
  },
  {
   "cell_type": "code",
   "execution_count": 61,
   "id": "83382fbd",
   "metadata": {},
   "outputs": [
    {
     "data": {
      "text/plain": [
       "<AxesSubplot:>"
      ]
     },
     "execution_count": 61,
     "metadata": {},
     "output_type": "execute_result"
    },
    {
     "data": {
      "image/png": "[encoded data removed]",
      "text/plain": [
       "<Figure size 1440x720 with 1 Axes>"
      ]
     },
     "metadata": {
      "needs_background": "light"
     },
     "output_type": "display_data"
    }
   ],
   "source": [
    "plt.figure(figsize=(20,10))\n",
    "(df['rating']\n",
    ".value_counts()\n",
    ".plot(kind='bar')\n",
    ")"
   ]
  },
  {
   "cell_type": "markdown",
   "id": "3428ec75",
   "metadata": {},
   "source": [
    "### 10. Averge Ratings for each Drug"
   ]
  },
  {
   "cell_type": "code",
   "execution_count": 73,
   "id": "29fe0c6a",
   "metadata": {},
   "outputs": [
    {
     "name": "stdout",
     "output_type": "stream",
     "text": [
      "5.09 ms ± 180 µs per loop (mean ± std. dev. of 7 runs, 100 loops each)\n"
     ]
    }
   ],
   "source": [
    "%%timeit\n",
    "(df['rating']\n",
    " .groupby(df['drugName'])\n",
    " .mean()\n",
    ")"
   ]
  },
  {
   "cell_type": "code",
   "execution_count": 74,
   "id": "0fab37a9",
   "metadata": {},
   "outputs": [
    {
     "name": "stdout",
     "output_type": "stream",
     "text": [
      "4.99 ms ± 216 µs per loop (mean ± std. dev. of 7 runs, 100 loops each)\n"
     ]
    }
   ],
   "source": [
    "%%timeit\n",
    "(df\n",
    " .groupby('drugName')['rating']\n",
    " .mean()\n",
    ")"
   ]
  },
  {
   "cell_type": "code",
   "execution_count": 77,
   "id": "4d16966c",
   "metadata": {},
   "outputs": [
    {
     "data": {
      "image/png": "[encoded data removed]",
      "text/plain": [
       "<Figure size 1440x576 with 1 Axes>"
      ]
     },
     "metadata": {
      "needs_background": "light"
     },
     "output_type": "display_data"
    }
   ],
   "source": [
    "plt.figure(figsize=(20,8))\n",
    "(df\n",
    " .groupby('drugName')['rating']\n",
    " .mean()\n",
    " .plot(kind='hist')\n",
    ")\n",
    "plt.title('Average Rating For Each Drug')\n",
    "plt.grid()"
   ]
  },
  {
   "cell_type": "markdown",
   "id": "46869c8c",
   "metadata": {},
   "source": [
    "### Question on Review\n",
    "+ How genuine is the review? (Using sentiment analysis)\n",
    "+ How many reviews are positive,negative,neutral?\n",
    "+ Correlation between rating and review and users who found the review useful\n",
    "+ Distribution of rating\n",
    "+ Amount of review made per year and per month\n",
    "+ Which condition has the most review on drugs\n",
    "+ Can you predict the rating using the review?"
   ]
  },
  {
   "cell_type": "code",
   "execution_count": null,
   "id": "1d335c35",
   "metadata": {},
   "outputs": [],
   "source": []
  }
 ],
 "metadata": {
  "kernelspec": {
   "display_name": "Python 3 (ipykernel)",
   "language": "python",
   "name": "python3"
  },
  "language_info": {
   "codemirror_mode": {
    "name": "ipython",
    "version": 3
   },
   "file_extension": ".py",
   "mimetype": "text/x-python",
   "name": "python",
   "nbconvert_exporter": "python",
   "pygments_lexer": "ipython3",
   "version": "3.10.5"
  }
 },
 "nbformat": 4,
 "nbformat_minor": 5
}
